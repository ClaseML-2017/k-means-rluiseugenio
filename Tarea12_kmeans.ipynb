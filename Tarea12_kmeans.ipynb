{
 "cells": [
  {
   "cell_type": "markdown",
   "metadata": {},
   "source": [
    "# Tarea 12. K-Medias.\n",
    "L.E. Rojón\n",
    "\n",
    "138442\n"
   ]
  },
  {
   "cell_type": "code",
   "execution_count": 2,
   "metadata": {},
   "outputs": [],
   "source": [
    "import pandas as pd\n",
    "import numpy as np \n",
    "import matplotlib.pyplot as plt \n",
    "import seaborn as sns\n",
    "%matplotlib inline \n",
    "from sklearn.model_selection import train_test_split\n",
    "from sklearn import preprocessing\n",
    "from random import random,randint,seed,sample \n",
    "from sklearn.preprocessing import StandardScaler\n",
    "import random as rn\n",
    "from sklearn.tree import DecisionTreeClassifier\n",
    "from sklearn.ensemble import AdaBoostClassifier, RandomForestClassifier\n",
    "from sklearn.cluster import KMeans\n",
    "from sklearn import tree \n",
    "from sklearn.linear_model import LogisticRegression\n",
    "from sklearn.metrics import classification_report,confusion_matrix \n",
    "from sklearn.cluster import KMeans "
   ]
  },
  {
   "cell_type": "code",
   "execution_count": 3,
   "metadata": {},
   "outputs": [
    {
     "data": {
      "text/html": [
       "<div>\n",
       "<style scoped>\n",
       "    .dataframe tbody tr th:only-of-type {\n",
       "        vertical-align: middle;\n",
       "    }\n",
       "\n",
       "    .dataframe tbody tr th {\n",
       "        vertical-align: top;\n",
       "    }\n",
       "\n",
       "    .dataframe thead th {\n",
       "        text-align: right;\n",
       "    }\n",
       "</style>\n",
       "<table border=\"1\" class=\"dataframe\">\n",
       "  <thead>\n",
       "    <tr style=\"text-align: right;\">\n",
       "      <th></th>\n",
       "      <th>M</th>\n",
       "      <th>0.455</th>\n",
       "      <th>0.365</th>\n",
       "      <th>0.095</th>\n",
       "      <th>0.514</th>\n",
       "      <th>0.2245</th>\n",
       "      <th>0.101</th>\n",
       "      <th>0.15</th>\n",
       "      <th>15</th>\n",
       "    </tr>\n",
       "  </thead>\n",
       "  <tbody>\n",
       "    <tr>\n",
       "      <th>0</th>\n",
       "      <td>M</td>\n",
       "      <td>0.350</td>\n",
       "      <td>0.265</td>\n",
       "      <td>0.090</td>\n",
       "      <td>0.2255</td>\n",
       "      <td>0.0995</td>\n",
       "      <td>0.0485</td>\n",
       "      <td>0.070</td>\n",
       "      <td>7</td>\n",
       "    </tr>\n",
       "    <tr>\n",
       "      <th>1</th>\n",
       "      <td>F</td>\n",
       "      <td>0.530</td>\n",
       "      <td>0.420</td>\n",
       "      <td>0.135</td>\n",
       "      <td>0.6770</td>\n",
       "      <td>0.2565</td>\n",
       "      <td>0.1415</td>\n",
       "      <td>0.210</td>\n",
       "      <td>9</td>\n",
       "    </tr>\n",
       "    <tr>\n",
       "      <th>2</th>\n",
       "      <td>M</td>\n",
       "      <td>0.440</td>\n",
       "      <td>0.365</td>\n",
       "      <td>0.125</td>\n",
       "      <td>0.5160</td>\n",
       "      <td>0.2155</td>\n",
       "      <td>0.1140</td>\n",
       "      <td>0.155</td>\n",
       "      <td>10</td>\n",
       "    </tr>\n",
       "    <tr>\n",
       "      <th>3</th>\n",
       "      <td>I</td>\n",
       "      <td>0.330</td>\n",
       "      <td>0.255</td>\n",
       "      <td>0.080</td>\n",
       "      <td>0.2050</td>\n",
       "      <td>0.0895</td>\n",
       "      <td>0.0395</td>\n",
       "      <td>0.055</td>\n",
       "      <td>7</td>\n",
       "    </tr>\n",
       "    <tr>\n",
       "      <th>4</th>\n",
       "      <td>I</td>\n",
       "      <td>0.425</td>\n",
       "      <td>0.300</td>\n",
       "      <td>0.095</td>\n",
       "      <td>0.3515</td>\n",
       "      <td>0.1410</td>\n",
       "      <td>0.0775</td>\n",
       "      <td>0.120</td>\n",
       "      <td>8</td>\n",
       "    </tr>\n",
       "  </tbody>\n",
       "</table>\n",
       "</div>"
      ],
      "text/plain": [
       "   M  0.455  0.365  0.095   0.514  0.2245   0.101   0.15  15\n",
       "0  M  0.350  0.265  0.090  0.2255  0.0995  0.0485  0.070   7\n",
       "1  F  0.530  0.420  0.135  0.6770  0.2565  0.1415  0.210   9\n",
       "2  M  0.440  0.365  0.125  0.5160  0.2155  0.1140  0.155  10\n",
       "3  I  0.330  0.255  0.080  0.2050  0.0895  0.0395  0.055   7\n",
       "4  I  0.425  0.300  0.095  0.3515  0.1410  0.0775  0.120   8"
      ]
     },
     "execution_count": 3,
     "metadata": {},
     "output_type": "execute_result"
    }
   ],
   "source": [
    "ab=pd.read_csv('http://archive.ics.uci.edu/ml/machine-learning-databases/abalone/abalone.data',delimiter=',')\n",
    "ab.head()\n"
   ]
  },
  {
   "cell_type": "markdown",
   "metadata": {},
   "source": [
    "Divido los datos"
   ]
  },
  {
   "cell_type": "code",
   "execution_count": 4,
   "metadata": {},
   "outputs": [],
   "source": [
    "X=np.array(ab.iloc[:,1:9])\n",
    "y=np.array(ab.iloc[:,0])\n",
    "X_train,X_test,y_train,y_test=train_test_split(X,y,test_size=0.2,random_state=6)"
   ]
  },
  {
   "cell_type": "markdown",
   "metadata": {},
   "source": [
    "Estandarizamos"
   ]
  },
  {
   "cell_type": "code",
   "execution_count": 5,
   "metadata": {},
   "outputs": [],
   "source": [
    "scalerx = preprocessing.StandardScaler().fit(X_train)\n",
    "X_train=scalerx.transform(X_train)\n",
    "X_test=scalerx.transform(X_test)"
   ]
  },
  {
   "cell_type": "markdown",
   "metadata": {},
   "source": [
    "Hacemos un primer acercamiento con regresión logística y evaluamos el resultado."
   ]
  },
  {
   "cell_type": "code",
   "execution_count": 6,
   "metadata": {},
   "outputs": [
    {
     "name": "stdout",
     "output_type": "stream",
     "text": [
      "             precision    recall  f1-score   support\n",
      "\n",
      "          F       0.48      0.29      0.36       247\n",
      "          I       0.62      0.82      0.70       271\n",
      "          M       0.50      0.51      0.50       318\n",
      "\n",
      "avg / total       0.53      0.54      0.53       836\n",
      "\n",
      "[[ 71  47 129]\n",
      " [ 14 221  36]\n",
      " [ 64  91 163]]\n"
     ]
    }
   ],
   "source": [
    "rl=LogisticRegression(C=0.01,penalty='l2')\n",
    "rl.fit(X_train,y_train)\n",
    "pred=rl.predict(X_test) \n",
    "print(classification_report(y_test,pred))\n",
    "print(confusion_matrix(y_test,pred))"
   ]
  },
  {
   "cell_type": "code",
   "execution_count": 8,
   "metadata": {},
   "outputs": [
    {
     "data": {
      "text/plain": [
       "<matplotlib.axes._subplots.AxesSubplot at 0x7f4b24284710>"
      ]
     },
     "execution_count": 8,
     "metadata": {},
     "output_type": "execute_result"
    },
    {
     "data": {
      "image/png": "[encoded data removed]",
      "text/plain": [
       "<matplotlib.figure.Figure at 0x7f4b24201e10>"
      ]
     },
     "metadata": {},
     "output_type": "display_data"
    }
   ],
   "source": [
    "cm=confusion_matrix(y_test,pred)\n",
    "sns.heatmap(cm,cmap='viridis')"
   ]
  },
  {
   "cell_type": "markdown",
   "metadata": {},
   "source": [
    "Ahora, aplicamos el algoritmo de k-medias para hacer un cúmulo."
   ]
  },
  {
   "cell_type": "code",
   "execution_count": 9,
   "metadata": {},
   "outputs": [],
   "source": [
    "kmeans = KMeans(n_clusters=3, random_state=0).fit(X)\n",
    "kmeans.labels_\n",
    "clases=kmeans.predict(X)\n",
    "\n",
    "clas=np.unique(clases)\n",
    "e=np.column_stack((y,X,clases))\n",
    "\n",
    "X=e[:,1:10]  \n",
    "y=e[:,0]\n",
    "X_train,X_test,y_train,y_test=train_test_split(X,y,test_size=0.2,random_state=6)"
   ]
  },
  {
   "cell_type": "markdown",
   "metadata": {},
   "source": [
    "Entrenamos."
   ]
  },
  {
   "cell_type": "code",
   "execution_count": 10,
   "metadata": {},
   "outputs": [
    {
     "name": "stderr",
     "output_type": "stream",
     "text": [
      "/home/luxorville/virtualenvs/ML/local/lib/python2.7/site-packages/sklearn/utils/validation.py:475: DataConversionWarning: Data with input dtype object was converted to float64 by StandardScaler.\n",
      "  warnings.warn(msg, DataConversionWarning)\n"
     ]
    },
    {
     "data": {
      "text/plain": [
       "array([[ 0.3812389 ,  0.42198989,  0.39733321, ...,  0.07544934,\n",
       "         0.82381096,  1.24508119],\n",
       "       [ 0.92147561,  0.92348295,  1.28893993, ...,  1.11733644,\n",
       "         0.80241088, -0.60248838],\n",
       "       [ 1.00458895,  0.77303504,  1.92580187, ...,  0.72776126,\n",
       "         2.82115106,  1.86093771],\n",
       "       ..., \n",
       "       [-1.07324455, -1.1827879 , -1.13113545, ..., -1.02532704,\n",
       "        -1.15212907, -0.91041664],\n",
       "       [ 0.46435224,  0.57243781,  0.65207799, ...,  0.25664709,\n",
       "         0.78814417,  0.3212964 ],\n",
       "       [ 0.21501222,  0.12109406,  0.39733321, ..., -0.00608966,\n",
       "        -0.24619267, -0.29456012]])"
      ]
     },
     "execution_count": 10,
     "metadata": {},
     "output_type": "execute_result"
    }
   ],
   "source": [
    "c_train=X_train[:,8]\n",
    "c_test=X_test[:,8]\n",
    "X_train=X_train[:,0:8]\n",
    "X_test=X_test[:,0:8]\n",
    "scalerx = preprocessing.StandardScaler().fit(X_train)\n",
    "X_train=scalerx.transform(X_train)\n",
    "X_test=scalerx.transform(X_test)\n",
    "X_train"
   ]
  },
  {
   "cell_type": "code",
   "execution_count": 11,
   "metadata": {},
   "outputs": [
    {
     "name": "stdout",
     "output_type": "stream",
     "text": [
      "             precision    recall  f1-score   support\n",
      "\n",
      "          F       0.44      0.26      0.33       247\n",
      "          I       0.66      0.76      0.70       271\n",
      "          M       0.47      0.56      0.51       318\n",
      "\n",
      "avg / total       0.52      0.53      0.52       836\n",
      "\n",
      "[[ 64  36 147]\n",
      " [ 12 206  53]\n",
      " [ 69  72 177]]\n"
     ]
    }
   ],
   "source": [
    "X_train0,y_train0=X_train[np.where(c_train==0)],y_train[np.where(c_train==0)]\n",
    "X_train1,y_train1=X_train[np.where(c_train==1)],y_train[np.where(c_train==1)]\n",
    "X_train2,y_train2=X_train[np.where(c_train==2)],y_train[np.where(c_train==2)]\n",
    "\n",
    "X_test0,y_test0=X_test[np.where(c_test==0)],y_test[np.where(c_test==0)]\n",
    "X_test1,y_test1=X_test[np.where(c_test==1)],y_test[np.where(c_test==1)]\n",
    "X_test2,y_test2=X_test[np.where(c_test==2)],y_test[np.where(c_test==2)]\n",
    "\n",
    "rl=LogisticRegression(C=0.01,penalty='l2')\n",
    "\n",
    "rl.fit(X_train0,y_train0)\n",
    "pred0=rl.predict(X_test0)\n",
    "rl.fit(X_train1,y_train1)\n",
    "pred1=rl.predict(X_test1)\n",
    "rl.fit(X_train2,y_train2)\n",
    "pred2=rl.predict(X_test2)\n",
    "\n",
    "yy=np.concatenate((y_test0, y_test1,y_test2), axis=0)\n",
    "pp=np.concatenate((pred0, pred1,pred2), axis=0)\n",
    "\n",
    "print(classification_report(yy,pp))\n",
    "print(confusion_matrix(yy,pp))"
   ]
  },
  {
   "cell_type": "code",
   "execution_count": 12,
   "metadata": {},
   "outputs": [
    {
     "data": {
      "text/plain": [
       "<matplotlib.axes._subplots.AxesSubplot at 0x7f4b24284850>"
      ]
     },
     "execution_count": 12,
     "metadata": {},
     "output_type": "execute_result"
    },
    {
     "data": {
      "image/png": "[encoded data removed]",
      "text/plain": [
       "<matplotlib.figure.Figure at 0x7f4ae5f64f10>"
      ]
     },
     "metadata": {},
     "output_type": "display_data"
    }
   ],
   "source": [
    "cm=confusion_matrix(yy,pp)\n",
    "sns.heatmap(cm,cmap='viridis')"
   ]
  },
  {
   "cell_type": "markdown",
   "metadata": {},
   "source": [
    "Comparando esta matriz de confusión con la inicial, podemos notar que el recall de la categoria M mejora, así como la precisión de la categoría I."
   ]
  }
 ],
 "metadata": {
  "kernelspec": {
   "display_name": "Python 2",
   "language": "python",
   "name": "python2"
  },
  "language_info": {
   "codemirror_mode": {
    "name": "ipython",
    "version": 2
   },
   "file_extension": ".py",
   "mimetype": "text/x-python",
   "name": "python",
   "nbconvert_exporter": "python",
   "pygments_lexer": "ipython2",
   "version": "2.7.12"
  }
 },
 "nbformat": 4,
 "nbformat_minor": 2
}
